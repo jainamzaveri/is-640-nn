{
 "cells": [
  {
   "cell_type": "code",
   "execution_count": 1,
   "id": "18879e2d-7d94-4b5f-989c-8802cf1c4c3c",
   "metadata": {},
   "outputs": [],
   "source": [
    "import math\n",
    "import numpy as np\n",
    "import matplotlib.pyplot as plt\n",
    "%matplotlib inline"
   ]
  },
  {
   "cell_type": "code",
   "execution_count": 2,
   "id": "fb9f0a90-23a0-4e9c-99ca-48dcc19f1683",
   "metadata": {},
   "outputs": [],
   "source": [
    "def f(x):\n",
    "    return 3*x**2 - 4*x + 5"
   ]
  },
  {
   "cell_type": "code",
   "execution_count": 3,
   "id": "ca035baf-3073-4f3a-9f82-713377163c61",
   "metadata": {},
   "outputs": [
    {
     "data": {
      "text/plain": [
       "20.0"
      ]
     },
     "execution_count": 3,
     "metadata": {},
     "output_type": "execute_result"
    }
   ],
   "source": [
    "f(3.0)"
   ]
  },
  {
   "cell_type": "code",
   "execution_count": 5,
   "id": "49fe21c5-1a01-4a35-81c0-e99c0d7be1a2",
   "metadata": {},
   "outputs": [
    {
     "data": {
      "text/plain": [
       "[<matplotlib.lines.Line2D at 0x1a5758ff770>]"
      ]
     },
     "execution_count": 5,
     "metadata": {},
     "output_type": "execute_result"
    },
    {
     "data": {
      "image/png": "[encoded data removed]",
      "text/plain": [
       "<Figure size 640x480 with 1 Axes>"
      ]
     },
     "metadata": {},
     "output_type": "display_data"
    }
   ],
   "source": [
    "xs = np.arange(-5,5,0.25)\n",
    "ys = f(xs)\n",
    "plt.plot(ys)"
   ]
  },
  {
   "cell_type": "code",
   "execution_count": 11,
   "id": "7be2b427-9094-4364-9821-c14fb37de857",
   "metadata": {},
   "outputs": [
    {
     "data": {
      "text/plain": [
       "2.999378523327323e-06"
      ]
     },
     "execution_count": 11,
     "metadata": {},
     "output_type": "execute_result"
    }
   ],
   "source": [
    "h = 0.000001\n",
    "x = 2/3\n",
    "(f(x+h)-f(x))/h"
   ]
  },
  {
   "cell_type": "code",
   "execution_count": 14,
   "id": "0dbe3756-68a4-4d2f-814f-6db20059bcb0",
   "metadata": {},
   "outputs": [
    {
     "name": "stdout",
     "output_type": "stream",
     "text": [
      "4.0\n"
     ]
    }
   ],
   "source": [
    "a = (2.0)\n",
    "b = (-3.0) \n",
    "c = (10.0)\n",
    "d = a*b +c\n",
    "\n",
    "print(d)"
   ]
  },
  {
   "cell_type": "code",
   "execution_count": 18,
   "id": "76287e72-f061-4183-a6f2-2da97161450d",
   "metadata": {},
   "outputs": [
    {
     "name": "stdout",
     "output_type": "stream",
     "text": [
      "d1 =  4.0\n",
      "d2 =  4.0002\n",
      "slope = 2.0000000000042206\n"
     ]
    }
   ],
   "source": [
    "h = 0.0001\n",
    "\n",
    "#ip\n",
    "a = (2.0)\n",
    "b = (-3.0) \n",
    "c = (10.0)\n",
    "\n",
    "d1 = a*b +c\n",
    "b+=h\n",
    "d2 = a*b +c\n",
    "print('d1 = ',d1)\n",
    "print('d2 = ',d2)\n",
    "print('slope =',(d2-d1)/h)"
   ]
  },
  {
   "cell_type": "code",
   "execution_count": 49,
   "id": "1bb84fa5-588c-497f-904e-248051d72b70",
   "metadata": {},
   "outputs": [
    {
     "name": "stdout",
     "output_type": "stream",
     "text": [
      "Value (data = -0.9950547536867306)\n"
     ]
    }
   ],
   "source": [
    "class Value:\n",
    "\n",
    "    def __init__(self,data, _children=(),_op=''):\n",
    "        self.data = data\n",
    "        self.grad = 0\n",
    "        self._prev = set(_children)\n",
    "        self._op = _op\n",
    "        \n",
    "    def __repr__(self):\n",
    "        return f\"Value (data = {self.data})\"\n",
    "\n",
    "    def __add__(self,other):\n",
    "        out = Value(self.data + other.data, (self,other),'+')\n",
    "        return out\n",
    "\n",
    "    def __mul__(self,other):\n",
    "        out = Value(self.data * other.data, (self,other),'*')\n",
    "        return out\n",
    "\n",
    "    def tanh(self):\n",
    "        x = self.data\n",
    "        t = (math.exp(2*x) - 1)/(math.exp(2*x) + 1)\n",
    "        out = Value(t,(self, ), 'tanh')\n",
    "        return out\n",
    "        \n",
    "\n",
    "a= Value(2.0)\n",
    "b = Value(-3.0)\n",
    "c = Value (10.0)\n",
    "e = a*b\n",
    "d= e + c\n",
    "f = Value(2.0)\n",
    "L = d * f\n",
    "o = b.tanh()\n",
    "print(o)"
   ]
  },
  {
   "cell_type": "code",
   "execution_count": 40,
   "id": "72e73742-4c2a-4375-880c-1b298c91ffc2",
   "metadata": {},
   "outputs": [
    {
     "data": {
      "text/plain": [
       "{Value (data = -6.0), Value (data = 10.0)}"
      ]
     },
     "execution_count": 40,
     "metadata": {},
     "output_type": "execute_result"
    }
   ],
   "source": [
    "d._prev"
   ]
  },
  {
   "cell_type": "code",
   "execution_count": 39,
   "id": "05b5d84c-1407-4121-b33e-849804c085e2",
   "metadata": {},
   "outputs": [
    {
     "data": {
      "text/plain": [
       "'+'"
      ]
     },
     "execution_count": 39,
     "metadata": {},
     "output_type": "execute_result"
    }
   ],
   "source": [
    "d._op"
   ]
  },
  {
   "cell_type": "code",
   "execution_count": null,
   "id": "fa43bd07-67ef-49bd-b2e2-523e3b9424c6",
   "metadata": {},
   "outputs": [],
   "source": []
  }
 ],
 "metadata": {
  "kernelspec": {
   "display_name": "Python 3 (ipykernel)",
   "language": "python",
   "name": "python3"
  },
  "language_info": {
   "codemirror_mode": {
    "name": "ipython",
    "version": 3
   },
   "file_extension": ".py",
   "mimetype": "text/x-python",
   "name": "python",
   "nbconvert_exporter": "python",
   "pygments_lexer": "ipython3",
   "version": "3.12.4"
  }
 },
 "nbformat": 4,
 "nbformat_minor": 5
}
